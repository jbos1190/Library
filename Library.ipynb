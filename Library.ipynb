{
 "cells": [
  {
   "cell_type": "markdown",
   "metadata": {},
   "source": [
    "# Personal Library Database Project\n",
    "### Steps:\n",
    "1. Locate all resources(books, videos, pictures, conglomerates, etc.)\n",
    "2. Provide an interface for me to fill in missing information\n",
    "3. Use the resources to make a SQL database\n",
    "4. Make a usefull front-end to the database\n",
    "\n",
    "## Database Design\n",
    "![Basic ER Diagram](ER_Diagram.jpg)\n",
    "**Schema 1**\n",
    "\n",
    "|Test|Testing|\n",
    "|:-:|:-:|\n",
    "|a|54.3|"
   ]
  },
  {
   "cell_type": "code",
   "execution_count": null,
   "metadata": {},
   "outputs": [],
   "source": []
  }
 ],
 "metadata": {
  "kernelspec": {
   "display_name": "Python 3",
   "language": "python",
   "name": "python3"
  },
  "language_info": {
   "codemirror_mode": {
    "name": "ipython",
    "version": 3
   },
   "file_extension": ".py",
   "mimetype": "text/x-python",
   "name": "python",
   "nbconvert_exporter": "python",
   "pygments_lexer": "ipython3",
   "version": "3.8.3"
  }
 },
 "nbformat": 4,
 "nbformat_minor": 4
}
